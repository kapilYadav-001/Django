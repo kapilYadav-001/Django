{
 "cells": [
  {
   "cell_type": "code",
   "execution_count": 29,
   "id": "60700a1e",
   "metadata": {},
   "outputs": [
    {
     "name": "stdout",
     "output_type": "stream",
     "text": [
      "['2', '4->49', '51->74', '76->99']\n"
     ]
    }
   ],
   "source": [
    "l=[0,1,3,50,75]\n",
    "lower,upper=0,99\n",
    "p=[]\n",
    "for j in range(len(l)-1):\n",
    "    if abs(l[j]-l[j+1])>1 and l[j]>lower:\n",
    "        if l[j]+1 is not l[j+1]-1:\n",
    "            p.append(f\"{l[j]+1}->{l[j+1]-1}\")\n",
    "        else:\n",
    "            p.append(f\"{l[j]+1}\")\n",
    "            \n",
    "p.append(f\"{l[-1]+1}->{upper}\")\n",
    "\n",
    "print(p)"
   ]
  }
 ],
 "metadata": {
  "kernelspec": {
   "display_name": "Python 3 (ipykernel)",
   "language": "python",
   "name": "python3"
  },
  "language_info": {
   "codemirror_mode": {
    "name": "ipython",
    "version": 3
   },
   "file_extension": ".py",
   "mimetype": "text/x-python",
   "name": "python",
   "nbconvert_exporter": "python",
   "pygments_lexer": "ipython3",
   "version": "3.9.6"
  }
 },
 "nbformat": 4,
 "nbformat_minor": 5
}
